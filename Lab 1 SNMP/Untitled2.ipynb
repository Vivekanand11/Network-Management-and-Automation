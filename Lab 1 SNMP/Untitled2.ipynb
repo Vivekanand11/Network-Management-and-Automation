{
 "cells": [
  {
   "cell_type": "code",
   "execution_count": 2,
   "metadata": {},
   "outputs": [
    {
     "name": "stdout",
     "output_type": "stream",
     "text": [
      "b'PING 198.51.100.3 (198.51.100.3) 56(84) bytes of data.\\n64 bytes from 198.51.100.3: icmp_seq=1 ttl=255 time=10.2 ms\\n64 bytes from 198.51.100.3: icmp_seq=2 ttl=255 time=11.1 ms\\n64 bytes from 198.51.100.3: icmp_seq=3 ttl=255 time=5.76 ms\\n64 bytes from 198.51.100.3: icmp_seq=4 ttl=255 time=10.6 ms\\n64 bytes from 198.51.100.3: icmp_seq=5 ttl=255 time=11.1 ms\\n\\n--- 198.51.100.3 ping statistics ---\\n5 packets transmitted, 5 received, 0% packet loss, time 4005ms\\nrtt min/avg/max/mdev = 5.765/9.787/11.182/2.046 ms\\n'\n"
     ]
    }
   ],
   "source": [
    "import subprocess\n",
    "print(subprocess.check_output(['ping', '198.51.100.3', '-c5']))"
   ]
  },
  {
   "cell_type": "code",
   "execution_count": null,
   "metadata": {},
   "outputs": [],
   "source": []
  }
 ],
 "metadata": {
  "kernelspec": {
   "display_name": "Python 3",
   "language": "python",
   "name": "python3"
  },
  "language_info": {
   "codemirror_mode": {
    "name": "ipython",
    "version": 3
   },
   "file_extension": ".py",
   "mimetype": "text/x-python",
   "name": "python",
   "nbconvert_exporter": "python",
   "pygments_lexer": "ipython3",
   "version": "3.6.9"
  }
 },
 "nbformat": 4,
 "nbformat_minor": 4
}
